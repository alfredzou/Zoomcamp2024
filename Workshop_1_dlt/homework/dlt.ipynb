{
  "nbformat": 4,
  "nbformat_minor": 0,
  "metadata": {
    "colab": {
      "provenance": []
    },
    "kernelspec": {
      "name": "python3",
      "display_name": "Python 3"
    },
    "language_info": {
      "name": "python"
    }
  },
  "cells": [
    {
      "cell_type": "markdown",
      "source": [
        "# **Homework**: Data talks club data engineering zoomcamp Data loading workshop\n",
        "\n",
        "Hello folks, let's practice what we learned - Loading data with the best practices of data engineering.\n",
        "\n",
        "Here are the exercises we will do\n",
        "\n",
        "\n"
      ],
      "metadata": {
        "id": "mrTFv5nPClXh"
      }
    },
    {
      "cell_type": "markdown",
      "source": [
        "# 1. Use a generator\n",
        "\n",
        "Remember the concept of generator? Let's practice using them to futher our understanding of how they work.\n",
        "\n",
        "Let's define a generator and then run it as practice.\n",
        "\n",
        "**Answer the following questions:**\n",
        "\n",
        "- **Question 1: What is the sum of the outputs of the generator for limit = 5?**\n",
        "- **Question 2: What is the 13th number yielded**\n",
        "\n",
        "I suggest practicing these questions without GPT as the purpose is to further your learning."
      ],
      "metadata": {
        "id": "wLF4iXf-NR7t"
      }
    },
    {
      "cell_type": "code",
      "source": [
        "def square_root_generator(limit):\n",
        "    n = 1\n",
        "    while n <= limit:\n",
        "        yield n ** 0.5\n",
        "        n += 1\n",
        "\n",
        "# Example usage:\n",
        "limit = 5\n",
        "generator = square_root_generator(limit)\n",
        "\n",
        "counter = 0\n",
        "for sqrt_value in generator:\n",
        "    print(sqrt_value)\n",
        "    counter += sqrt_value\n",
        "\n",
        "print(f\"{counter=}\")\n"
      ],
      "metadata": {
        "colab": {
          "base_uri": "https://localhost:8080/"
        },
        "id": "wLng-bDJN4jf",
        "outputId": "1483b91b-f2e9-43fd-bfc7-1ab870b0bb66"
      },
      "execution_count": 5,
      "outputs": [
        {
          "output_type": "stream",
          "name": "stdout",
          "text": [
            "1.0\n",
            "1.4142135623730951\n",
            "1.7320508075688772\n",
            "2.0\n",
            "2.23606797749979\n",
            "counter=8.382332347441762\n"
          ]
        }
      ]
    },
    {
      "cell_type": "code",
      "source": [
        "limit = 13\n",
        "generator = square_root_generator(limit)\n",
        "\n",
        "for sqrt_value in generator:\n",
        "    print(sqrt_value)"
      ],
      "metadata": {
        "id": "ENEHdaJSnbif",
        "outputId": "66e63c20-c59a-4b9b-a7d9-44285ccf3794",
        "colab": {
          "base_uri": "https://localhost:8080/"
        }
      },
      "execution_count": 6,
      "outputs": [
        {
          "output_type": "stream",
          "name": "stdout",
          "text": [
            "1.0\n",
            "1.4142135623730951\n",
            "1.7320508075688772\n",
            "2.0\n",
            "2.23606797749979\n",
            "2.449489742783178\n",
            "2.6457513110645907\n",
            "2.8284271247461903\n",
            "3.0\n",
            "3.1622776601683795\n",
            "3.3166247903554\n",
            "3.4641016151377544\n",
            "3.605551275463989\n"
          ]
        }
      ]
    },
    {
      "cell_type": "markdown",
      "source": [],
      "metadata": {
        "id": "xbe3q55zN43j"
      }
    },
    {
      "cell_type": "markdown",
      "source": [
        "# 2. Append a generator to a table with existing data\n",
        "\n",
        "\n",
        "Below you have 2 generators. You will be tasked to load them to duckdb and answer some questions from the data\n",
        "\n",
        "1. Load the first generator and calculate the sum of ages of all people. Make sure to only load it once.\n",
        "2. Append the second generator to the same table as the first.\n",
        "3. **After correctly appending the data, calculate the sum of all ages of people.**\n",
        "\n",
        "\n"
      ],
      "metadata": {
        "id": "vjWhILzGJMpK"
      }
    },
    {
      "cell_type": "code",
      "execution_count": 50,
      "metadata": {
        "colab": {
          "base_uri": "https://localhost:8080/"
        },
        "id": "2MoaQcdLBEk6",
        "outputId": "e6c4d4f6-e060-493f-f962-1bb46d530478"
      },
      "outputs": [
        {
          "output_type": "stream",
          "name": "stdout",
          "text": [
            "{'ID': 1, 'Name': 'Person_1', 'Age': 26, 'City': 'City_A'}\n",
            "{'ID': 2, 'Name': 'Person_2', 'Age': 27, 'City': 'City_A'}\n",
            "{'ID': 3, 'Name': 'Person_3', 'Age': 28, 'City': 'City_A'}\n",
            "{'ID': 4, 'Name': 'Person_4', 'Age': 29, 'City': 'City_A'}\n",
            "{'ID': 5, 'Name': 'Person_5', 'Age': 30, 'City': 'City_A'}\n",
            "{'ID': 3, 'Name': 'Person_3', 'Age': 33, 'City': 'City_B', 'Occupation': 'Job_3'}\n",
            "{'ID': 4, 'Name': 'Person_4', 'Age': 34, 'City': 'City_B', 'Occupation': 'Job_4'}\n",
            "{'ID': 5, 'Name': 'Person_5', 'Age': 35, 'City': 'City_B', 'Occupation': 'Job_5'}\n",
            "{'ID': 6, 'Name': 'Person_6', 'Age': 36, 'City': 'City_B', 'Occupation': 'Job_6'}\n",
            "{'ID': 7, 'Name': 'Person_7', 'Age': 37, 'City': 'City_B', 'Occupation': 'Job_7'}\n",
            "{'ID': 8, 'Name': 'Person_8', 'Age': 38, 'City': 'City_B', 'Occupation': 'Job_8'}\n"
          ]
        }
      ],
      "source": [
        "def people_1():\n",
        "    for i in range(1, 6):\n",
        "        yield {\"ID\": i, \"Name\": f\"Person_{i}\", \"Age\": 25 + i, \"City\": \"City_A\"}\n",
        "\n",
        "for person in people_1():\n",
        "    print(person)\n",
        "\n",
        "\n",
        "def people_2():\n",
        "    for i in range(3, 9):\n",
        "        yield {\"ID\": i, \"Name\": f\"Person_{i}\", \"Age\": 30 + i, \"City\": \"City_B\", \"Occupation\": f\"Job_{i}\"}\n",
        "\n",
        "\n",
        "for person in people_2():\n",
        "    print(person)\n"
      ]
    },
    {
      "cell_type": "code",
      "source": [
        "!pip install dlt[duckdb]"
      ],
      "metadata": {
        "id": "Fk8KOU1YnvmR"
      },
      "execution_count": null,
      "outputs": []
    },
    {
      "cell_type": "code",
      "source": [
        "import dlt\n",
        "import duckdb\n",
        "\n",
        "pipeline = dlt.pipeline(pipeline_name=\"census_pipe\",destination = \"duckdb\", dataset_name=\"census\")\n",
        "info = pipeline.run(people_1(),table_name=\"people_append\",write_disposition=\"replace\")\n",
        "print(info)"
      ],
      "metadata": {
        "colab": {
          "base_uri": "https://localhost:8080/"
        },
        "id": "_qwW9L3Kn39K",
        "outputId": "9666c264-64be-458e-a2ca-68f375879353"
      },
      "execution_count": 60,
      "outputs": [
        {
          "output_type": "stream",
          "name": "stdout",
          "text": [
            "Pipeline census_pipe load step completed in 0.23 seconds\n",
            "1 load package(s) were loaded to destination duckdb and into dataset census\n",
            "The duckdb destination used duckdb:////content/census_pipe.duckdb location to store data\n",
            "Load package 1707379049.3943872 is LOADED and contains no failed jobs\n"
          ]
        }
      ]
    },
    {
      "cell_type": "code",
      "source": [
        "conn = duckdb.connect(f\"{pipeline.pipeline_name}.duckdb\")\n",
        "conn.sql(f\"SET search_path = '{pipeline.dataset_name}'\")\n",
        "conn.sql('show tables')"
      ],
      "metadata": {
        "colab": {
          "base_uri": "https://localhost:8080/"
        },
        "id": "5d2-zFcdo_3x",
        "outputId": "9f48826f-e57f-4b63-dc44-93e915ced5b7"
      },
      "execution_count": 61,
      "outputs": [
        {
          "output_type": "execute_result",
          "data": {
            "text/plain": [
              "┌─────────────────────┐\n",
              "│        name         │\n",
              "│       varchar       │\n",
              "├─────────────────────┤\n",
              "│ _dlt_loads          │\n",
              "│ _dlt_pipeline_state │\n",
              "│ _dlt_version        │\n",
              "│ people              │\n",
              "│ people_append       │\n",
              "└─────────────────────┘"
            ]
          },
          "metadata": {},
          "execution_count": 61
        }
      ]
    },
    {
      "cell_type": "code",
      "source": [
        "conn.sql('select * from people_append')"
      ],
      "metadata": {
        "colab": {
          "base_uri": "https://localhost:8080/"
        },
        "id": "XUtz9oKEq0ya",
        "outputId": "5a41e22d-2160-4c80-afd4-20de85a33ae0"
      },
      "execution_count": 62,
      "outputs": [
        {
          "output_type": "execute_result",
          "data": {
            "text/plain": [
              "┌───────┬──────────┬───────┬─────────┬────────────────────┬────────────────┬────────────┐\n",
              "│  id   │   name   │  age  │  city   │    _dlt_load_id    │    _dlt_id     │ occupation │\n",
              "│ int64 │ varchar  │ int64 │ varchar │      varchar       │    varchar     │  varchar   │\n",
              "├───────┼──────────┼───────┼─────────┼────────────────────┼────────────────┼────────────┤\n",
              "│     1 │ Person_1 │    26 │ City_A  │ 1707379049.3943872 │ 3JPrd57cD+I/Hg │ NULL       │\n",
              "│     2 │ Person_2 │    27 │ City_A  │ 1707379049.3943872 │ g1ugtPOg+olIVQ │ NULL       │\n",
              "│     3 │ Person_3 │    28 │ City_A  │ 1707379049.3943872 │ dwyrjbLB6h1qDw │ NULL       │\n",
              "│     4 │ Person_4 │    29 │ City_A  │ 1707379049.3943872 │ 0rBuAq4auY+fRg │ NULL       │\n",
              "│     5 │ Person_5 │    30 │ City_A  │ 1707379049.3943872 │ hvmeGDaZahFlFA │ NULL       │\n",
              "└───────┴──────────┴───────┴─────────┴────────────────────┴────────────────┴────────────┘"
            ]
          },
          "metadata": {},
          "execution_count": 62
        }
      ]
    },
    {
      "cell_type": "code",
      "source": [
        "conn.sql('select sum(age) from people_append')"
      ],
      "metadata": {
        "colab": {
          "base_uri": "https://localhost:8080/"
        },
        "id": "IlO1V5RIq3LX",
        "outputId": "fd9d42b8-0d1f-428b-bb0a-f10d2a8a74f4"
      },
      "execution_count": 63,
      "outputs": [
        {
          "output_type": "execute_result",
          "data": {
            "text/plain": [
              "┌──────────┐\n",
              "│ sum(age) │\n",
              "│  int128  │\n",
              "├──────────┤\n",
              "│      140 │\n",
              "└──────────┘"
            ]
          },
          "metadata": {},
          "execution_count": 63
        }
      ]
    },
    {
      "cell_type": "code",
      "source": [
        "info = pipeline.run(people_2(),table_name=\"people_append\",write_disposition=\"append\")\n",
        "print(info)"
      ],
      "metadata": {
        "colab": {
          "base_uri": "https://localhost:8080/"
        },
        "id": "E-4MYkGiqODK",
        "outputId": "15d6b92f-ce5c-4a63-c490-078c020896ea"
      },
      "execution_count": 64,
      "outputs": [
        {
          "output_type": "stream",
          "name": "stdout",
          "text": [
            "Pipeline census_pipe load step completed in 0.23 seconds\n",
            "1 load package(s) were loaded to destination duckdb and into dataset census\n",
            "The duckdb destination used duckdb:////content/census_pipe.duckdb location to store data\n",
            "Load package 1707379073.7891927 is LOADED and contains no failed jobs\n"
          ]
        }
      ]
    },
    {
      "cell_type": "code",
      "source": [
        "conn.sql('select * from people_append')"
      ],
      "metadata": {
        "colab": {
          "base_uri": "https://localhost:8080/"
        },
        "id": "ZelMcSE4qUbU",
        "outputId": "bc8725a0-195a-47d2-a3e0-622f99b5dc58"
      },
      "execution_count": 65,
      "outputs": [
        {
          "output_type": "execute_result",
          "data": {
            "text/plain": [
              "┌───────┬──────────┬───────┬─────────┬────────────────────┬────────────────┬────────────┐\n",
              "│  id   │   name   │  age  │  city   │    _dlt_load_id    │    _dlt_id     │ occupation │\n",
              "│ int64 │ varchar  │ int64 │ varchar │      varchar       │    varchar     │  varchar   │\n",
              "├───────┼──────────┼───────┼─────────┼────────────────────┼────────────────┼────────────┤\n",
              "│     1 │ Person_1 │    26 │ City_A  │ 1707379049.3943872 │ 3JPrd57cD+I/Hg │ NULL       │\n",
              "│     2 │ Person_2 │    27 │ City_A  │ 1707379049.3943872 │ g1ugtPOg+olIVQ │ NULL       │\n",
              "│     3 │ Person_3 │    28 │ City_A  │ 1707379049.3943872 │ dwyrjbLB6h1qDw │ NULL       │\n",
              "│     4 │ Person_4 │    29 │ City_A  │ 1707379049.3943872 │ 0rBuAq4auY+fRg │ NULL       │\n",
              "│     5 │ Person_5 │    30 │ City_A  │ 1707379049.3943872 │ hvmeGDaZahFlFA │ NULL       │\n",
              "│     3 │ Person_3 │    33 │ City_B  │ 1707379073.7891927 │ U1NJNO0cZg0bUw │ Job_3      │\n",
              "│     4 │ Person_4 │    34 │ City_B  │ 1707379073.7891927 │ jZtBSIBgUmzaUQ │ Job_4      │\n",
              "│     5 │ Person_5 │    35 │ City_B  │ 1707379073.7891927 │ 5y31eL2VjBE/zQ │ Job_5      │\n",
              "│     6 │ Person_6 │    36 │ City_B  │ 1707379073.7891927 │ v8ynQgRPoLd4Bg │ Job_6      │\n",
              "│     7 │ Person_7 │    37 │ City_B  │ 1707379073.7891927 │ dirDfARfHZPDlQ │ Job_7      │\n",
              "│     8 │ Person_8 │    38 │ City_B  │ 1707379073.7891927 │ 5KD0JxfS75fdgA │ Job_8      │\n",
              "├───────┴──────────┴───────┴─────────┴────────────────────┴────────────────┴────────────┤\n",
              "│ 11 rows                                                                     7 columns │\n",
              "└───────────────────────────────────────────────────────────────────────────────────────┘"
            ]
          },
          "metadata": {},
          "execution_count": 65
        }
      ]
    },
    {
      "cell_type": "code",
      "source": [
        "conn.sql('select sum(age) from people_append')"
      ],
      "metadata": {
        "colab": {
          "base_uri": "https://localhost:8080/"
        },
        "id": "QTDJcCrDrEJU",
        "outputId": "d4abdfc4-2001-4bca-ac22-0435e54aa87b"
      },
      "execution_count": 67,
      "outputs": [
        {
          "output_type": "execute_result",
          "data": {
            "text/plain": [
              "┌──────────┐\n",
              "│ sum(age) │\n",
              "│  int128  │\n",
              "├──────────┤\n",
              "│      353 │\n",
              "└──────────┘"
            ]
          },
          "metadata": {},
          "execution_count": 67
        }
      ]
    },
    {
      "cell_type": "code",
      "source": [
        "conn.sql(\"drop table _dlt_loads \")\n",
        "conn.sql(\"drop table _dlt_pipeline_State \")\n",
        "conn.sql(\"drop table _dlt_version \")\n",
        "conn.sql(\"drop table people_append \")"
      ],
      "metadata": {
        "id": "ufkL7hJ7p5dP"
      },
      "execution_count": 68,
      "outputs": []
    },
    {
      "cell_type": "code",
      "source": [
        "conn.close()"
      ],
      "metadata": {
        "id": "7KwM059Yqr03"
      },
      "execution_count": 69,
      "outputs": []
    },
    {
      "cell_type": "markdown",
      "source": [],
      "metadata": {
        "id": "vtdTIm4fvQCN"
      }
    },
    {
      "cell_type": "markdown",
      "source": [
        "# 3. Merge a generator\n",
        "\n",
        "Re-use the generators from Exercise 2.\n",
        "\n",
        "A table's primary key needs to be created from the start, so load your data to a new table with primary key ID.\n",
        "\n",
        "Load your first generator first, and then load the second one with merge. Since they have overlapping IDs, some of the records from the first load should be replaced by the ones from the second load.\n",
        "\n",
        "After loading, you should have a total of 8 records, and ID 3 should have age 33.\n",
        "\n",
        "Question: **Calculate the sum of ages of all the people loaded as described above.**\n"
      ],
      "metadata": {
        "id": "pY4cFAWOSwN1"
      }
    },
    {
      "cell_type": "code",
      "source": [
        "import dlt\n",
        "import duckdb\n",
        "\n",
        "pipeline = dlt.pipeline(pipeline_name=\"census_pipe\",destination = \"duckdb\", dataset_name=\"census\")\n",
        "info = pipeline.run(people_1(),table_name=\"people\",write_disposition=\"merge\",primary_key = 'id')\n",
        "print(info)"
      ],
      "metadata": {
        "colab": {
          "base_uri": "https://localhost:8080/"
        },
        "outputId": "ed73b8c6-5884-44b8-ca0a-1e777b1d7f85",
        "id": "Jf6uqEqGrtF0"
      },
      "execution_count": 75,
      "outputs": [
        {
          "output_type": "stream",
          "name": "stdout",
          "text": [
            "Pipeline census_pipe load step completed in 0.40 seconds\n",
            "1 load package(s) were loaded to destination duckdb and into dataset census\n",
            "The duckdb destination used duckdb:////content/census_pipe.duckdb location to store data\n",
            "Load package 1707379148.2750626 is LOADED and contains no failed jobs\n"
          ]
        }
      ]
    },
    {
      "cell_type": "code",
      "source": [
        "conn = duckdb.connect(f\"{pipeline.pipeline_name}.duckdb\")\n",
        "conn.sql(f\"SET search_path = '{pipeline.dataset_name}'\")\n",
        "conn.sql('show tables')"
      ],
      "metadata": {
        "colab": {
          "base_uri": "https://localhost:8080/"
        },
        "outputId": "9f49a386-dbb4-44af-bc7b-2f85fb877458",
        "id": "O6s6PobQrtF1"
      },
      "execution_count": 76,
      "outputs": [
        {
          "output_type": "execute_result",
          "data": {
            "text/plain": [
              "┌─────────────────────┐\n",
              "│        name         │\n",
              "│       varchar       │\n",
              "├─────────────────────┤\n",
              "│ _dlt_loads          │\n",
              "│ _dlt_pipeline_state │\n",
              "│ _dlt_version        │\n",
              "│ people              │\n",
              "└─────────────────────┘"
            ]
          },
          "metadata": {},
          "execution_count": 76
        }
      ]
    },
    {
      "cell_type": "code",
      "source": [
        "conn.sql('select * from people')"
      ],
      "metadata": {
        "colab": {
          "base_uri": "https://localhost:8080/"
        },
        "outputId": "bea27c3b-2c18-49d8-de56-ead88292f347",
        "id": "KUdK_ywurtF2"
      },
      "execution_count": 77,
      "outputs": [
        {
          "output_type": "execute_result",
          "data": {
            "text/plain": [
              "┌───────┬──────────┬───────┬─────────┬────────────────────┬────────────────┬────────────┐\n",
              "│  id   │   name   │  age  │  city   │    _dlt_load_id    │    _dlt_id     │ occupation │\n",
              "│ int64 │ varchar  │ int64 │ varchar │      varchar       │    varchar     │  varchar   │\n",
              "├───────┼──────────┼───────┼─────────┼────────────────────┼────────────────┼────────────┤\n",
              "│     2 │ Person_2 │    27 │ City_A  │ 1707379148.2750626 │ SYNlKsmp+QTIsQ │ NULL       │\n",
              "│     4 │ Person_4 │    29 │ City_A  │ 1707379148.2750626 │ cnBVhsri2Poo0w │ NULL       │\n",
              "│     5 │ Person_5 │    30 │ City_A  │ 1707379148.2750626 │ Qa9LgExQpKzp7w │ NULL       │\n",
              "│     1 │ Person_1 │    26 │ City_A  │ 1707379148.2750626 │ TrlxEj7PB+89Ng │ NULL       │\n",
              "│     3 │ Person_3 │    28 │ City_A  │ 1707379148.2750626 │ Sx7od/AoSdG8cA │ NULL       │\n",
              "└───────┴──────────┴───────┴─────────┴────────────────────┴────────────────┴────────────┘"
            ]
          },
          "metadata": {},
          "execution_count": 77
        }
      ]
    },
    {
      "cell_type": "code",
      "source": [
        "conn.sql('select sum(age),avg(age) from people')"
      ],
      "metadata": {
        "colab": {
          "base_uri": "https://localhost:8080/"
        },
        "outputId": "ff77bcb5-a16b-4030-9b8c-084de0780a79",
        "id": "DiG-fKAyrtF2"
      },
      "execution_count": 78,
      "outputs": [
        {
          "output_type": "execute_result",
          "data": {
            "text/plain": [
              "┌──────────┬──────────┐\n",
              "│ sum(age) │ avg(age) │\n",
              "│  int128  │  double  │\n",
              "├──────────┼──────────┤\n",
              "│      140 │     28.0 │\n",
              "└──────────┴──────────┘"
            ]
          },
          "metadata": {},
          "execution_count": 78
        }
      ]
    },
    {
      "cell_type": "code",
      "source": [
        "info = pipeline.run(people_2(),table_name=\"people\",write_disposition=\"merge\",primary_key='id')\n",
        "print(info)"
      ],
      "metadata": {
        "colab": {
          "base_uri": "https://localhost:8080/"
        },
        "outputId": "f70a754e-c3f6-495f-b266-f6eaa4c48fd0",
        "id": "L8_TxlaKrtF2"
      },
      "execution_count": 79,
      "outputs": [
        {
          "output_type": "stream",
          "name": "stdout",
          "text": [
            "Pipeline census_pipe load step completed in 0.33 seconds\n",
            "1 load package(s) were loaded to destination duckdb and into dataset census\n",
            "The duckdb destination used duckdb:////content/census_pipe.duckdb location to store data\n",
            "Load package 1707379158.9989774 is LOADED and contains no failed jobs\n"
          ]
        }
      ]
    },
    {
      "cell_type": "code",
      "source": [
        "conn.sql('select * from people')"
      ],
      "metadata": {
        "colab": {
          "base_uri": "https://localhost:8080/"
        },
        "outputId": "8e816e07-8b28-412b-eec1-43c5402ba000",
        "id": "WwLyMK5CrtF2"
      },
      "execution_count": 80,
      "outputs": [
        {
          "output_type": "execute_result",
          "data": {
            "text/plain": [
              "┌───────┬──────────┬───────┬─────────┬────────────────────┬────────────────┬────────────┐\n",
              "│  id   │   name   │  age  │  city   │    _dlt_load_id    │    _dlt_id     │ occupation │\n",
              "│ int64 │ varchar  │ int64 │ varchar │      varchar       │    varchar     │  varchar   │\n",
              "├───────┼──────────┼───────┼─────────┼────────────────────┼────────────────┼────────────┤\n",
              "│     2 │ Person_2 │    27 │ City_A  │ 1707379148.2750626 │ SYNlKsmp+QTIsQ │ NULL       │\n",
              "│     1 │ Person_1 │    26 │ City_A  │ 1707379148.2750626 │ TrlxEj7PB+89Ng │ NULL       │\n",
              "│     5 │ Person_5 │    35 │ City_B  │ 1707379158.9989774 │ 3rr0wmmbA9Cl6w │ Job_5      │\n",
              "│     7 │ Person_7 │    37 │ City_B  │ 1707379158.9989774 │ o92hQBUfcxQTJg │ Job_7      │\n",
              "│     4 │ Person_4 │    34 │ City_B  │ 1707379158.9989774 │ rL92Orw77e09Fg │ Job_4      │\n",
              "│     3 │ Person_3 │    33 │ City_B  │ 1707379158.9989774 │ KOaNV73lSHoLeQ │ Job_3      │\n",
              "│     6 │ Person_6 │    36 │ City_B  │ 1707379158.9989774 │ fdt8PN+MEW4j3Q │ Job_6      │\n",
              "│     8 │ Person_8 │    38 │ City_B  │ 1707379158.9989774 │ fx02fnxl36xlrQ │ Job_8      │\n",
              "└───────┴──────────┴───────┴─────────┴────────────────────┴────────────────┴────────────┘"
            ]
          },
          "metadata": {},
          "execution_count": 80
        }
      ]
    },
    {
      "cell_type": "code",
      "source": [
        "conn.sql('select sum(age),avg(age) from people')"
      ],
      "metadata": {
        "colab": {
          "base_uri": "https://localhost:8080/"
        },
        "outputId": "8cc892aa-6e7e-44b7-b108-28e01e7ff624",
        "id": "Sr_V0yG5rtF2"
      },
      "execution_count": 81,
      "outputs": [
        {
          "output_type": "execute_result",
          "data": {
            "text/plain": [
              "┌──────────┬──────────┐\n",
              "│ sum(age) │ avg(age) │\n",
              "│  int128  │  double  │\n",
              "├──────────┼──────────┤\n",
              "│      266 │    33.25 │\n",
              "└──────────┴──────────┘"
            ]
          },
          "metadata": {},
          "execution_count": 81
        }
      ]
    },
    {
      "cell_type": "code",
      "source": [
        "conn.sql(\"drop table _dlt_loads \")\n",
        "conn.sql(\"drop table _dlt_pipeline_State \")\n",
        "conn.sql(\"drop table _dlt_version \")\n",
        "conn.sql(\"drop table people \")"
      ],
      "metadata": {
        "id": "bSp8LKSartF3"
      },
      "execution_count": 82,
      "outputs": []
    },
    {
      "cell_type": "code",
      "source": [
        "conn.close()"
      ],
      "metadata": {
        "id": "cxANL-hJrtF3"
      },
      "execution_count": 83,
      "outputs": []
    },
    {
      "cell_type": "markdown",
      "source": [
        "# Solution: First make sure that the following modules are installed:"
      ],
      "metadata": {
        "id": "kKB2GTB9oVjr"
      }
    },
    {
      "cell_type": "code",
      "source": [
        "#Install the dependencies\n",
        "%%capture\n",
        "!pip install dlt[duckdb]"
      ],
      "metadata": {
        "id": "xTVvtyqrfVNq"
      },
      "execution_count": null,
      "outputs": []
    },
    {
      "cell_type": "code",
      "source": [
        "# to do: homework :)"
      ],
      "metadata": {
        "id": "a2-PRBAkGC2K"
      },
      "execution_count": null,
      "outputs": []
    },
    {
      "cell_type": "markdown",
      "source": [
        "Questions? difficulties? We are here to help.\n",
        "- DTC data engineering course channel: https://datatalks-club.slack.com/archives/C01FABYF2RG\n",
        "- dlt's DTC cohort channel: https://dlthub-community.slack.com/archives/C06GAEX2VNX"
      ],
      "metadata": {
        "id": "PoTJu4kbGG0z"
      }
    }
  ]
}